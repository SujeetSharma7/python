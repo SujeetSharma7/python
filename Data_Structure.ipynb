{
  "nbformat": 4,
  "nbformat_minor": 0,
  "metadata": {
    "colab": {
      "provenance": []
    },
    "kernelspec": {
      "name": "python3",
      "display_name": "Python 3"
    },
    "language_info": {
      "name": "python"
    }
  },
  "cells": [
    {
      "cell_type": "markdown",
      "source": [
        "THEORY QUESTION"
      ],
      "metadata": {
        "id": "73XpHlO4n4Bw"
      }
    },
    {
      "cell_type": "markdown",
      "source": [
        "#1. What are data structures, and why are they important?\n",
        "- Data structures are ways to organize and store data efficiently for easy access and modification. They are crucial for optimizing algorithms, managing memory, and improving performance in programming. Examples include lists, tuples, sets, and dictionaries.\n",
        "\n",
        "#2. Explain the difference between mutable and immutable data types with examples.\n",
        "- Mutable data types can be modified after creation (e.g., lists, dictionaries). Immutable data types cannot be changed once created (e.g., tuples, strings). Example: list1 = [1,2,3] (mutable), tuple1 = (1,2,3) (immutable).\n",
        "\n",
        "#3. What are the main differences between lists and tuples in Python?\n",
        "- Lists are mutable, ordered, and allow duplicate values, while tuples are immutable, ordered, and provide better performance. Lists can be modified, but tuples remain constant, making them suitable for fixed data storage.\n",
        "\n",
        "#4. Describe how dictionaries store data.\n",
        "- Dictionaries store data as key-value pairs using a hash table for fast retrieval. Keys must be unique and immutable, while values can be any type. Example: { \"name\": \"Alice\", \"age\": 25 }.\n",
        "\n",
        "#5. Why might you use a set instead of a list in Python?\n",
        "- Sets eliminate duplicate values and offer faster membership checks due to hashing. They are unordered and unindexed, making them useful for removing duplicates and performing mathematical set operations like union and intersection.\n",
        "\n",
        "#6. What is a string in Python, and how is it different from a list?\n",
        "- A string is an immutable sequence of characters, while a list is a mutable collection of elements. Strings are used for textual data and cannot be changed in place, while lists allow modifications and store mixed data types.\n",
        "\n",
        "#7. How do tuples ensure data integrity in Python?\n",
        "- Tuples are immutable, meaning their elements cannot be changed after creation. This ensures data remains constant and prevents accidental modifications, making them ideal for storing fixed data like coordinates or function return values.\n",
        "\n",
        "#8.What is a hash table, and how does it relate to dictionaries in Python?\n",
        "- A hash table is a data structure that maps keys to values using a hashing function. Python dictionaries use hash tables to provide fast lookups, insertions, and deletions, typically with O(1) time complexity.\n",
        "\n",
        "#9. Can lists contain different data types in Python?\n",
        "- Yes, lists can contain multiple data types. Example: [1, \"hello\", 3.14, [2, 3]]. This flexibility makes lists useful for storing heterogeneous data.\n",
        "\n",
        "#10. Explain why strings are immutable in Python.\n",
        "- Strings are immutable to ensure security, memory efficiency, and hashability. Once created, a string cannot be modified. Example: \"hello\"[0] = \"H\" raises an error, preventing accidental changes.\n",
        "\n",
        "#11. What advantages do dictionaries offer over lists for certain tasks?\n",
        "- Dictionaries provide fast lookups (O(1) complexity), key-value mapping, and efficient memory use. Unlike lists, they allow quick access without sequential searching, making them ideal for indexed data storage.\n",
        "\n",
        "#12. Describe a scenario where using a tuple would be preferable over a list.\n",
        "- Tuples are preferable when data should not change, such as storing geographic coordinates (latitude, longitude), database records, or function return values. Their immutability ensures data integrity.\n",
        "\n",
        "#13. How do sets handle duplicate values in Python?\n",
        "- Sets automatically remove duplicates when elements are added. They store only unique values due to hash-based implementation. Example: {1, 2, 2, 3} results in {1, 2, 3}.\n",
        "\n",
        "#14. How does the “in” keyword work differently for lists and dictionaries?\n",
        "- In lists, \"in\" performs a sequential search (O(n)), while in dictionaries, it checks keys using hashing (O(1)). Example: \"key\" in my_dict is efficient, but \"value\" in my_list\" requires scanning all elements.\n",
        "\n",
        "#15. Can you modify the elements of a tuple? Explain why or why not.\n",
        "- No, tuples are immutable, meaning elements cannot be changed after creation. However, if a tuple contains a mutable object like a list, that object can be modified.\n",
        "\n",
        "#16. What is a nested dictionary, and give an example of its use case?\n",
        "- A nested dictionary is a dictionary inside another dictionary. Example: {\"person\": {\"name\": \"Alice\", \"age\": 25}}. It’s useful for storing hierarchical data like JSON configurations or multi-level categorization.\n",
        "\n",
        "#17. Describe the time complexity of accessing elements in a dictionary.\n",
        "- Dictionary lookups typically have O(1) time complexity due to hash table implementation. In rare cases of hash collisions, it can be O(n).\n",
        "\n",
        "#18. In what situations are lists preferred over dictionaries?\n",
        "- Lists are preferred when order matters, duplicates are needed, or sequential processing is required. They are useful for simple collections where key-value mappings are unnecessary.\n",
        "\n",
        "#19. Why are dictionaries considered unordered, and how does that affect data retrieval?\n",
        "- Before Python 3.7, dictionaries were unordered, meaning elements were stored arbitrarily. From Python 3.7+, insertion order is preserved. Since elements are accessed by keys, position-based retrieval is not possible.\n",
        "\n",
        "#20. Explain the difference between a list and a dictionary in terms of data retrieval.\n",
        "- Lists retrieve elements by index (O(1)) but require O(n) for searches. Dictionaries retrieve values by key (O(1)) using hashing, making them efficient for fast lookups."
      ],
      "metadata": {
        "id": "aS7EdubOpGvR"
      }
    },
    {
      "cell_type": "markdown",
      "source": [
        "**PRACTICAL ANSWER**"
      ],
      "metadata": {
        "id": "91wPT-vGtfnS"
      }
    },
    {
      "cell_type": "code",
      "source": [
        "#1. Write a code to create a string with your name and print it.\n",
        "name = \"Sujeet Kumar\"\n",
        "print(name)"
      ],
      "metadata": {
        "colab": {
          "base_uri": "https://localhost:8080/"
        },
        "id": "jlHcyPKOtl19",
        "outputId": "8322f453-ba55-4f64-908d-4eeaa443792d"
      },
      "execution_count": 11,
      "outputs": [
        {
          "output_type": "stream",
          "name": "stdout",
          "text": [
            "Sujeet Kumar\n"
          ]
        }
      ]
    },
    {
      "cell_type": "code",
      "source": [
        "#2. Write a code to find the length of the string \"Hello World\".\n",
        "string = \"Hello World\"\n",
        "print(len(string))"
      ],
      "metadata": {
        "colab": {
          "base_uri": "https://localhost:8080/"
        },
        "id": "dL7z-bpZt2_S",
        "outputId": "92f56ab9-0358-4cc7-d0a9-6e1f41188e71"
      },
      "execution_count": 12,
      "outputs": [
        {
          "output_type": "stream",
          "name": "stdout",
          "text": [
            "11\n"
          ]
        }
      ]
    },
    {
      "cell_type": "code",
      "source": [
        "#3. Write a code to slice the first 3 characters from the string \"Python Programming\".\n",
        "string = \"Python Programming\"\n",
        "print(string[:3])"
      ],
      "metadata": {
        "colab": {
          "base_uri": "https://localhost:8080/"
        },
        "id": "Ar_cWaiJuAtk",
        "outputId": "ee7b0f8c-ee13-4839-a214-2d29c4ec683d"
      },
      "execution_count": 13,
      "outputs": [
        {
          "output_type": "stream",
          "name": "stdout",
          "text": [
            "Pyt\n"
          ]
        }
      ]
    },
    {
      "cell_type": "code",
      "source": [
        "#4. Write a code to convert the string \"hello\" to uppercase.\n",
        "string = \"hello\"\n",
        "print(string.upper())"
      ],
      "metadata": {
        "colab": {
          "base_uri": "https://localhost:8080/"
        },
        "id": "GjmmtGfwuJSY",
        "outputId": "e8da4300-fede-49ee-b99d-fc62fb60d551"
      },
      "execution_count": 14,
      "outputs": [
        {
          "output_type": "stream",
          "name": "stdout",
          "text": [
            "HELLO\n"
          ]
        }
      ]
    },
    {
      "cell_type": "code",
      "source": [
        "#5. Write a code to replace the word \"apple\" with \"orange\" in the string \"I like apple\".\n",
        "string = \"I like apple\"\n",
        "print(string.replace(\"apple\", \"orange\"))"
      ],
      "metadata": {
        "colab": {
          "base_uri": "https://localhost:8080/"
        },
        "id": "VmKr7EaTuRFi",
        "outputId": "534cb725-d9e2-4682-c52e-e12ef2991432"
      },
      "execution_count": 16,
      "outputs": [
        {
          "output_type": "stream",
          "name": "stdout",
          "text": [
            "I like orange\n"
          ]
        }
      ]
    },
    {
      "cell_type": "code",
      "source": [
        "#6. Write a code to create a list with numbers 1 to 5 and print it.\n",
        "numbers = [1, 2, 3, 4, 5]\n",
        "print(numbers)"
      ],
      "metadata": {
        "colab": {
          "base_uri": "https://localhost:8080/"
        },
        "id": "JE4Q2ZMbuX26",
        "outputId": "9f845fcd-845b-400f-b4a0-d8b33fd7d7ad"
      },
      "execution_count": 6,
      "outputs": [
        {
          "output_type": "stream",
          "name": "stdout",
          "text": [
            "[1, 2, 3, 4, 5]\n"
          ]
        }
      ]
    },
    {
      "cell_type": "code",
      "source": [
        "#7. Write a code to append the number 10 to the list [1, 2, 3, 4].\n",
        "numbers = [1, 2, 3, 4]\n",
        "numbers.append(10)\n",
        "print(numbers)"
      ],
      "metadata": {
        "colab": {
          "base_uri": "https://localhost:8080/"
        },
        "id": "qy9R2WFLugok",
        "outputId": "5b559f59-69af-4f71-b0e8-7857bbb2df43"
      },
      "execution_count": 7,
      "outputs": [
        {
          "output_type": "stream",
          "name": "stdout",
          "text": [
            "[1, 2, 3, 4, 10]\n"
          ]
        }
      ]
    },
    {
      "cell_type": "code",
      "source": [
        "#8. Write a code to remove the number 3 from the list [1, 2, 3, 4, 5].\n",
        "numbers = [1, 2, 3, 4, 5]\n",
        "numbers.remove(3)\n",
        "print(numbers)"
      ],
      "metadata": {
        "colab": {
          "base_uri": "https://localhost:8080/"
        },
        "id": "lRrxA8BvupYB",
        "outputId": "61e996e3-0f65-471d-d735-57f441b38f74"
      },
      "execution_count": 8,
      "outputs": [
        {
          "output_type": "stream",
          "name": "stdout",
          "text": [
            "[1, 2, 4, 5]\n"
          ]
        }
      ]
    },
    {
      "cell_type": "code",
      "source": [
        "#9. Write a code to access the second element in the list ['a', 'b', 'c', 'd'].\n",
        "letters = ['a', 'b', 'c', 'd']\n",
        "second_element = letters[1]\n",
        "print(second_element)"
      ],
      "metadata": {
        "colab": {
          "base_uri": "https://localhost:8080/"
        },
        "id": "fn_zm8Suuw3E",
        "outputId": "d1f50135-91aa-453e-cc66-07e231171625"
      },
      "execution_count": 9,
      "outputs": [
        {
          "output_type": "stream",
          "name": "stdout",
          "text": [
            "b\n"
          ]
        }
      ]
    },
    {
      "cell_type": "code",
      "source": [
        "#10. Write a code to reverse the list [10, 20, 30, 40, 50].\n",
        "numbers = [10, 20, 30, 40, 50]\n",
        "reversed_numbers = numbers[::-1]\n",
        "print(reversed_numbers)"
      ],
      "metadata": {
        "colab": {
          "base_uri": "https://localhost:8080/"
        },
        "id": "1fzzbNL8uwqx",
        "outputId": "1baf470e-e29d-47ac-cdd6-57d3bc7228f8"
      },
      "execution_count": 10,
      "outputs": [
        {
          "output_type": "stream",
          "name": "stdout",
          "text": [
            "[50, 40, 30, 20, 10]\n"
          ]
        }
      ]
    },
    {
      "cell_type": "code",
      "source": [
        "#11. Write a code to create a tuple with the elements 100, 200, 300 and print it.\n",
        "numbers = (100, 200, 300)\n",
        "print(numbers)"
      ],
      "metadata": {
        "colab": {
          "base_uri": "https://localhost:8080/"
        },
        "id": "XFz9hiPvuweg",
        "outputId": "d411ebfb-606f-4783-ad20-7cfa5177b103"
      },
      "execution_count": 17,
      "outputs": [
        {
          "output_type": "stream",
          "name": "stdout",
          "text": [
            "(100, 200, 300)\n"
          ]
        }
      ]
    },
    {
      "cell_type": "code",
      "source": [
        "#12. Write a code to access the second-to-last element of the tuple ('red', 'green', 'blue', 'yellow').\n",
        "colors = ('red', 'green', 'blue', 'yellow')\n",
        "second_to_last_element = colors[-2]\n",
        "print(second_to_last_element)"
      ],
      "metadata": {
        "colab": {
          "base_uri": "https://localhost:8080/"
        },
        "id": "X-Vqm_WnuwOa",
        "outputId": "aaaf472e-bd2f-4bd4-f366-f934f756af95"
      },
      "execution_count": 18,
      "outputs": [
        {
          "output_type": "stream",
          "name": "stdout",
          "text": [
            "blue\n"
          ]
        }
      ]
    },
    {
      "cell_type": "code",
      "source": [
        "#13. Write a code to find the minimum number in the tuple (10, 20, 5, 15).\n",
        "numbers = (10, 20, 5, 15)\n",
        "minimum_number = min(numbers)\n",
        "print(minimum_number)"
      ],
      "metadata": {
        "colab": {
          "base_uri": "https://localhost:8080/"
        },
        "id": "ZBaKkogzuvx8",
        "outputId": "9b78991b-89a5-4238-d309-91b2edefb104"
      },
      "execution_count": 19,
      "outputs": [
        {
          "output_type": "stream",
          "name": "stdout",
          "text": [
            "5\n"
          ]
        }
      ]
    },
    {
      "cell_type": "code",
      "source": [
        "#14. Write a code to find the index of the element \"cat\" in the tuple ('dog', 'cat', 'rabbit').\n",
        "animals = ('dog', 'cat', 'rabbit')\n",
        "cat_index = animals.index('cat')\n",
        "print(cat_index)"
      ],
      "metadata": {
        "colab": {
          "base_uri": "https://localhost:8080/"
        },
        "id": "h3SHg7lDwYr_",
        "outputId": "3cb21c35-bf22-4e0a-f7c1-759d30241c7c"
      },
      "execution_count": 20,
      "outputs": [
        {
          "output_type": "stream",
          "name": "stdout",
          "text": [
            "1\n"
          ]
        }
      ]
    },
    {
      "cell_type": "code",
      "source": [
        "#15. Write a code to create a tuple containing three different fruits and check if \"kiwi\" is in it.\n",
        "fruits = ('apple', 'banana', 'orange')\n",
        "is_kiwi_in_tuple = 'kiwi' in fruits\n",
        "print(is_kiwi_in_tuple)"
      ],
      "metadata": {
        "colab": {
          "base_uri": "https://localhost:8080/"
        },
        "id": "E3Ufc5iHwYoa",
        "outputId": "5ba6a94e-492b-4cff-fe79-44b7cab9d84e"
      },
      "execution_count": 21,
      "outputs": [
        {
          "output_type": "stream",
          "name": "stdout",
          "text": [
            "False\n"
          ]
        }
      ]
    },
    {
      "cell_type": "code",
      "source": [
        "#16. Write a code to create a set with the elements 'a', 'b', 'c' and print it.\n",
        "letters = {'a', 'b', 'c'}\n",
        "print(letters)"
      ],
      "metadata": {
        "colab": {
          "base_uri": "https://localhost:8080/"
        },
        "id": "YyoUuAtrwqEP",
        "outputId": "0abb7819-fc8e-4617-a16f-6356d250a3e1"
      },
      "execution_count": 22,
      "outputs": [
        {
          "output_type": "stream",
          "name": "stdout",
          "text": [
            "{'b', 'a', 'c'}\n"
          ]
        }
      ]
    },
    {
      "cell_type": "code",
      "source": [
        "#17. Write a code to clear all elements from the set {1, 2, 3, 4, 5}.\n",
        "numbers = {1, 2, 3, 4, 5}\n",
        "numbers.clear()\n",
        "print(numbers)"
      ],
      "metadata": {
        "colab": {
          "base_uri": "https://localhost:8080/"
        },
        "id": "8-HoHunUwxUI",
        "outputId": "9f84c25c-b8df-4fee-dc7b-8d38be18a50e"
      },
      "execution_count": 23,
      "outputs": [
        {
          "output_type": "stream",
          "name": "stdout",
          "text": [
            "set()\n"
          ]
        }
      ]
    },
    {
      "cell_type": "code",
      "source": [
        "#18. Write a code to remove the element 4 from the set {1, 2, 3, 4}.\n",
        "numbers = {1, 2, 3, 4}\n",
        "numbers.remove(4)\n",
        "print(numbers)"
      ],
      "metadata": {
        "colab": {
          "base_uri": "https://localhost:8080/"
        },
        "id": "7PD1giUSw7Gn",
        "outputId": "9ff334c0-ce98-4ebc-a821-c025a693567a"
      },
      "execution_count": 24,
      "outputs": [
        {
          "output_type": "stream",
          "name": "stdout",
          "text": [
            "{1, 2, 3}\n"
          ]
        }
      ]
    },
    {
      "cell_type": "code",
      "source": [
        "#19. Write a code to find the union of two sets {1, 2, 3} and {3, 4, 5}.\n",
        "set1 = {1, 2, 3}\n",
        "set2 = {3, 4, 5}\n",
        "union_set = set1.union(set2)\n",
        "print(union_set)"
      ],
      "metadata": {
        "colab": {
          "base_uri": "https://localhost:8080/"
        },
        "id": "H8ToZjq3w62y",
        "outputId": "76cca810-2afd-4713-f7d0-da78a61c27c5"
      },
      "execution_count": 25,
      "outputs": [
        {
          "output_type": "stream",
          "name": "stdout",
          "text": [
            "{1, 2, 3, 4, 5}\n"
          ]
        }
      ]
    },
    {
      "cell_type": "code",
      "source": [
        "#20. Write a code to find the intersection of two sets {1, 2, 3} and {2, 3, 4}.\n",
        "set1 = {1, 2, 3}\n",
        "set2 = {2, 3, 4}\n",
        "intersection_set = set1.intersection(set2)\n",
        "print(intersection_set)"
      ],
      "metadata": {
        "colab": {
          "base_uri": "https://localhost:8080/"
        },
        "id": "T7cmRA1nw6zY",
        "outputId": "6d3b7c2f-a299-432e-9feb-ef9ccf93d690"
      },
      "execution_count": 26,
      "outputs": [
        {
          "output_type": "stream",
          "name": "stdout",
          "text": [
            "{2, 3}\n"
          ]
        }
      ]
    },
    {
      "cell_type": "code",
      "source": [
        "#21. Write a code to create a dictionary with the keys \"name\", \"age\", and \"city\", and print it.\n",
        "person = {\"name\": \"Alice\",\"age\": 25,\"city\": \"New York\"}\n",
        "print(person)"
      ],
      "metadata": {
        "colab": {
          "base_uri": "https://localhost:8080/"
        },
        "id": "XYyb2oQyxOPk",
        "outputId": "b4ca2c47-5349-4079-e9d1-ef3205007504"
      },
      "execution_count": 28,
      "outputs": [
        {
          "output_type": "stream",
          "name": "stdout",
          "text": [
            "{'name': 'Alice', 'age': 25, 'city': 'New York'}\n"
          ]
        }
      ]
    },
    {
      "cell_type": "code",
      "source": [
        "#22. Write a code to add a new key-value pair \"country\": \"USA\" to the dictionary {'name': 'John', 'age': 25}.\n",
        "person = {'name': 'John', 'age': 25}\n",
        "person['country'] = 'USA'\n",
        "print(person)"
      ],
      "metadata": {
        "colab": {
          "base_uri": "https://localhost:8080/"
        },
        "id": "SWvjwSaTx5RZ",
        "outputId": "58257b4b-d025-4694-f555-9dc202e0bd80"
      },
      "execution_count": 29,
      "outputs": [
        {
          "output_type": "stream",
          "name": "stdout",
          "text": [
            "{'name': 'John', 'age': 25, 'country': 'USA'}\n"
          ]
        }
      ]
    },
    {
      "cell_type": "code",
      "source": [
        "#23. Write a code to access the value associated with the key \"name\" in the dictionary {'name': 'Alice', 'age': 30}.\n",
        "person = {'name': 'Alice', 'age': 30}\n",
        "name_value = person['name']\n",
        "print(name_value)"
      ],
      "metadata": {
        "colab": {
          "base_uri": "https://localhost:8080/"
        },
        "id": "vILIKxoJx5OE",
        "outputId": "518fda53-1311-4a55-d46c-fad9500b91b8"
      },
      "execution_count": 30,
      "outputs": [
        {
          "output_type": "stream",
          "name": "stdout",
          "text": [
            "Alice\n"
          ]
        }
      ]
    },
    {
      "cell_type": "code",
      "source": [
        "#24. Write a code to remove the key \"age\" from the dictionary {'name': 'Bob', 'age': 22, 'city': 'New York'}.\n",
        "person = {'name': 'Bob', 'age': 22, 'city': 'New York'}\n",
        "del person['age']\n",
        "print(person)"
      ],
      "metadata": {
        "colab": {
          "base_uri": "https://localhost:8080/"
        },
        "id": "hqZJeDthx5L_",
        "outputId": "a2104e81-b436-4805-92c6-59bbc1072c52"
      },
      "execution_count": 31,
      "outputs": [
        {
          "output_type": "stream",
          "name": "stdout",
          "text": [
            "{'name': 'Bob', 'city': 'New York'}\n"
          ]
        }
      ]
    },
    {
      "cell_type": "code",
      "source": [
        "#25. Write a code to check if the key \"city\" exists in the dictionary {'name': 'Alice', 'city': 'Paris'}.\n",
        "detail = {'name': 'Alice', 'city': 'Paris'}\n",
        "if 'city' in person:\n",
        "    print(\"The key 'city' exists in the dictionary.\")\n",
        "else:\n",
        "    print(\"The key 'city' does not exist in the dictionary.\")"
      ],
      "metadata": {
        "colab": {
          "base_uri": "https://localhost:8080/"
        },
        "id": "GWb5MlSryReI",
        "outputId": "80b3bde1-69a2-4808-9133-255e061ebac8"
      },
      "execution_count": 33,
      "outputs": [
        {
          "output_type": "stream",
          "name": "stdout",
          "text": [
            "The key 'city' exists in the dictionary.\n"
          ]
        }
      ]
    },
    {
      "cell_type": "code",
      "source": [
        "#26. Write a code to create a list, a tuple, and a dictionary, and print them all.\n",
        "my_list = [1, 2, 3]\n",
        "my_tuple = (4, 5, 6)\n",
        "my_dict = {'a': 1, 'b': 2, 'c': 3}\n",
        "print(\"List:\", my_list)\n",
        "print(\"Tuple:\", my_tuple)\n",
        "print(\"Dictionary:\", my_dict)"
      ],
      "metadata": {
        "colab": {
          "base_uri": "https://localhost:8080/"
        },
        "id": "wmx47H8oyzrR",
        "outputId": "fa9721c5-44a0-45d7-8c7b-690881fcc7f7"
      },
      "execution_count": 35,
      "outputs": [
        {
          "output_type": "stream",
          "name": "stdout",
          "text": [
            "List: [1, 2, 3]\n",
            "Tuple: (4, 5, 6)\n",
            "Dictionary: {'a': 1, 'b': 2, 'c': 3}\n"
          ]
        }
      ]
    },
    {
      "cell_type": "code",
      "source": [
        "#27. Write a code to create a list of 5 random numbers between 1 and 100, sort it in ascending order, and print the result.(replaced).\n",
        "import random\n",
        "random_numbers = [random.randint(1, 100) for _ in range(5)]\n",
        "random_numbers.sort()\n",
        "print(random_numbers)"
      ],
      "metadata": {
        "colab": {
          "base_uri": "https://localhost:8080/"
        },
        "id": "J-IMDpdrzSGJ",
        "outputId": "5d70fe0d-6013-4bdb-bec2-123ba1bcadc9"
      },
      "execution_count": 39,
      "outputs": [
        {
          "output_type": "stream",
          "name": "stdout",
          "text": [
            "[4, 15, 58, 78, 87]\n"
          ]
        }
      ]
    },
    {
      "cell_type": "code",
      "source": [
        "#28. Write a code to create a list with strings and print the element at the third index\n",
        "my_list = [\"apple\", \"banana\", \"cherry\", \"date\", \"elderberry\"]\n",
        "print(my_list[2])"
      ],
      "metadata": {
        "colab": {
          "base_uri": "https://localhost:8080/"
        },
        "id": "FTxfz-LP0MdD",
        "outputId": "808be9b6-5111-40de-ed86-20a41f71a545"
      },
      "execution_count": 40,
      "outputs": [
        {
          "output_type": "stream",
          "name": "stdout",
          "text": [
            "cherry\n"
          ]
        }
      ]
    },
    {
      "cell_type": "code",
      "source": [
        "#29. Write a code to combine two dictionaries into one and print the result.\n",
        "dict1 = {'a': 1, 'b': 2}\n",
        "dict2 = {'c': 3, 'd': 4}\n",
        "combined_dict = {**dict1, **dict2}\n",
        "print(combined_dict)"
      ],
      "metadata": {
        "colab": {
          "base_uri": "https://localhost:8080/"
        },
        "id": "B3sU9LAw0Wks",
        "outputId": "6a288610-dda4-4651-a21a-f1f26ebc1ec2"
      },
      "execution_count": 41,
      "outputs": [
        {
          "output_type": "stream",
          "name": "stdout",
          "text": [
            "{'a': 1, 'b': 2, 'c': 3, 'd': 4}\n"
          ]
        }
      ]
    },
    {
      "cell_type": "code",
      "source": [
        "#30. Write a code to convert a list of strings into a set.\n",
        "my_list = [\"apple\", \"banana\", \"cherry\", \"apple\", \"banana\"]\n",
        "my_set = set(my_list)\n",
        "print(my_set)"
      ],
      "metadata": {
        "colab": {
          "base_uri": "https://localhost:8080/"
        },
        "id": "E5-pE8Z80fDb",
        "outputId": "87512173-0fa9-4639-b99b-46c2841192e9"
      },
      "execution_count": 42,
      "outputs": [
        {
          "output_type": "stream",
          "name": "stdout",
          "text": [
            "{'banana', 'apple', 'cherry'}\n"
          ]
        }
      ]
    }
  ]
}