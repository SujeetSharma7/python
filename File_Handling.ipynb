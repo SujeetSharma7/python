{
  "nbformat": 4,
  "nbformat_minor": 0,
  "metadata": {
    "colab": {
      "provenance": []
    },
    "kernelspec": {
      "name": "python3",
      "display_name": "Python 3"
    },
    "language_info": {
      "name": "python"
    }
  },
  "cells": [
    {
      "cell_type": "markdown",
      "source": [
        "# **THEORY ANSWER**"
      ],
      "metadata": {
        "id": "Wb-3xpfX7uTP"
      }
    },
    {
      "cell_type": "markdown",
      "source": [
        "#1. What is the difference between interpreted and compiled languages.\n",
        "- Interpreted languages execute code line-by-line without prior compilation, making debugging easier but slower. Compiled languages translate the entire code into machine code before execution, offering faster performance but requiring a separate compilation step before running.\n",
        "\n",
        "#2. What is exception handling in Python.\n",
        "- Exception handling manages runtime errors using try, except, finally, and raise. It prevents crashes, allowing the program to handle issues gracefully. Python provides built-in exception classes like ValueError and TypeError to catch and manage errors effectively.\n",
        "\n",
        "#3. What is the purpose of the finally block in exception handling.\n",
        "- The finally block executes code regardless of exceptions, ensuring resource cleanup like closing files or releasing memory. It is commonly used to guarantee that important cleanup operations execute, even if an exception occurs in try or except.\n",
        "\n",
        "#4. What is logging in Python.\n",
        "- Logging records events, errors, and debug information in applications. The logging module provides levels like DEBUG, INFO, WARNING, ERROR, and CRITICAL for structured logging, aiding in monitoring, debugging, and troubleshooting software issues efficiently.\n",
        "\n",
        "#5. What is the significance of the __del__ method in Python.\n",
        "- The __del__ method is a destructor that runs when an object is deleted. It is used for resource cleanup, like closing files or releasing memory, but relying on it for critical tasks is discouraged due to unpredictable execution.\n",
        "\n",
        "#6. What is the difference between import and from ... import in Python.\n",
        "- import module loads the entire module, requiring module.function() syntax, while from module import function imports specific functions or classes, allowing direct usage without module prefix. The latter improves readability but may cause naming conflicts.\n",
        "\n",
        "#7. How can you handle multiple exceptions in Python.\n",
        "- Use multiple except blocks for different exceptions or a single except (Exception1, Exception2) tuple. The except Exception as e syntax captures all exceptions, ensuring robustness by handling unexpected errors gracefully without crashing the program.\n",
        "\n",
        "#8. What is the purpose of the with statement when handling files in Python\n",
        "- The with statement automatically closes files after operations, preventing resource leaks. It simplifies file handling by managing opening and closing, reducing the need for explicit file.close(), improving code reliability and readability.\n",
        "\n",
        "#9. What is the difference between multithreading and multiprocessing.\n",
        "- Multithreading runs multiple threads in a process, sharing memory, ideal for I/O-bound tasks. Multiprocessing creates separate processes with individual memory space, beneficial for CPU-bound tasks. Python’s Global Interpreter Lock (GIL) limits true parallelism in threads.\n",
        "\n",
        "#10. What are the advantages of using logging in a program.\n",
        "- Logging helps track events, errors, and performance issues. It aids debugging, maintains system records, and improves security by storing logs for auditing. Different log levels allow categorization and filtering of messages for efficient debugging.\n",
        "\n",
        "#11. What is memory management in Python\n",
        "- Python manages memory using automatic garbage collection, heap memory allocation, and reference counting. The gc module controls memory cleanup. It optimizes memory usage, preventing leaks and ensuring efficient program execution.\n",
        "\n",
        "#12. What are the basic steps involved in exception handling in Python.\n",
        "- Use try block to enclose risky code.\n",
        "- Use except block to handle exceptions.\n",
        "- Optionally, use else to execute if no exception occurs.\n",
        "- Use finally to ensure cleanup, regardless of errors.\n",
        "\n",
        "#13. Why is memory management important in Python\n",
        "- Proper memory management prevents leaks, optimizes resource usage, and improves performance. Python's dynamic allocation, garbage collection, and reference counting help manage memory efficiently, ensuring smooth execution of programs\n",
        "\n",
        "#14. What is the role of try and except in exception handling\n",
        "- The try block encloses code that might raise an exception. The except block catches and handles errors, preventing program crashes. This structure ensures robustness by allowing graceful error handling and alternative execution paths.\n",
        "\n",
        "#15. How does Python's garbage collection system work\n",
        "- Python uses automatic garbage collection with reference counting and cyclic garbage collection. The gc module detects and removes unreachable objects, freeing memory. Objects with zero references are immediately deleted to optimize memory usage.\n",
        "\n",
        "#16. What is the purpose of the else block in exception handling\n",
        "- The else block runs when no exceptions occur in the try block. It helps separate error-handling logic from normal execution, improving code readability and ensuring successful execution of operations when no errors arise.\n",
        "\n",
        "#17. What are the common logging levels in Python\n",
        "- DEBUG: Detailed diagnostic information.\n",
        "- INFO: General application events.\n",
        "- WARNING: Potential issues.\n",
        "- ERROR: Serious problems.\n",
        "- CRITICAL: Severe failures needing immediate attention.\n",
        "#18. What is the difference between os.fork() and multiprocessing in Python\n",
        "- os.fork() creates child processes only on Unix-based systems, duplicating the parent’s memory. The multiprocessing module works cross-platform, spawning new processes that run independently, making it a more portable and flexible approach.\n",
        "\n",
        "#19. What is the importance of closing a file in Python\n",
        "- Closing files releases system resources, prevents data corruption, and ensures changes are saved. The with statement simplifies this process by automatically closing files after use, preventing accidental data loss or memory leaks.\n",
        "\n",
        "#20. What is the difference between file.read() and file.readline() in Python\n",
        "- file.read() reads the entire file or a specific number of characters, while file.readline() reads a single line at a time. The latter is useful for handling large files without loading them entirely into memory.\n",
        "\n",
        "#22. What is the logging module in Python used for?\n",
        "- The logging module records events, errors, and debugging messages. It supports different log levels, customizable formats, and file-based logging, providing a structured approach to monitoring and troubleshooting Python applications.\n",
        "\n",
        "#22. What is the os module in Python used for in file handling\n",
        "- The os module handles file operations like renaming, deleting, checking existence, and modifying permissions. It provides platform-independent methods for working with directories and file paths, improving cross-platform compatibility.\n",
        "\n",
        "#23. What are the challenges associated with memory management in Python\n",
        "- Memory fragmentation.\n",
        "- Overhead of garbage collection.\n",
        "- Reference cycles causing delays.\n",
        "- Managing large datasets efficiently.\n",
        "- Balancing performance with automatic memory cleanup.\n",
        "\n",
        "#24. How do you raise an exception manually in Python\n",
        "- Use raise keyword to trigger exceptions.\n",
        "     Example:\n",
        "              raise ValueError(\"Invalid input\")\n",
        "Custom exceptions can be created by subclassing Exception, allowing better error handling.\n",
        "#25. Why is it important to use multithreading in certain applications?\n",
        "- Multithreading enhances responsiveness in GUI applications, speeds up I/O-bound tasks, and improves efficiency in web scraping and real-time applications. However, Python’s GIL limits true parallel execution, making multiprocessing better for CPU-bound tasks."
      ],
      "metadata": {
        "id": "yxof5Jop70jF"
      }
    },
    {
      "cell_type": "markdown",
      "source": [
        "# **PRACTICAL ANSWER**"
      ],
      "metadata": {
        "id": "nBtJDHIx7nE4"
      }
    },
    {
      "cell_type": "code",
      "execution_count": 114,
      "metadata": {
        "id": "W33IAHfsgsw4"
      },
      "outputs": [],
      "source": [
        "# 1. How can you open a file for writing in Python and write a string to it?\n",
        "file = open(\"my_file.txt\", \"w\")\n",
        "file.write(\"A function is an independent block of code, while a method is a function associated with an object.\\n\")\n",
        "file.close()"
      ]
    },
    {
      "cell_type": "code",
      "source": [
        "# 2. Write a Python program to read the contents of a file and print each line?\n",
        "file = open(\"my_file.txt\", \"r\")\n",
        "lines = file.readlines()\n",
        "for line in lines:\n",
        "    print(line)\n",
        "file.close()"
      ],
      "metadata": {
        "colab": {
          "base_uri": "https://localhost:8080/"
        },
        "id": "V8FDTTtjhZeJ",
        "outputId": "e10e3f66-b52b-4083-e16d-3535b4d4184e"
      },
      "execution_count": 115,
      "outputs": [
        {
          "output_type": "stream",
          "name": "stdout",
          "text": [
            "A function is an independent block of code, while a method is a function associated with an object.\n",
            "\n"
          ]
        }
      ]
    },
    {
      "cell_type": "code",
      "source": [
        "# 3. How would you handle a case where the file doesn't exist while trying to open it for reading?\n",
        "try:\n",
        "    file = open(\"file.txt\", \"r\")\n",
        "    file.close()\n",
        "except FileNotFoundError:\n",
        "    print(\"The file 'file.txt' was not found.\")"
      ],
      "metadata": {
        "colab": {
          "base_uri": "https://localhost:8080/"
        },
        "id": "P2CCf1RHiWIB",
        "outputId": "e516ed7f-cfa7-4889-fe28-1f62ca3c1042"
      },
      "execution_count": 116,
      "outputs": [
        {
          "output_type": "stream",
          "name": "stdout",
          "text": [
            "The file 'file.txt' was not found.\n"
          ]
        }
      ]
    },
    {
      "cell_type": "code",
      "source": [
        "# 4. Write a Python script that reads from one file and writes its content to another file?\n",
        "def copy_file_content(source_file, destination_file):\n",
        "    try:\n",
        "        with open(source_file, \"r\") as source, open(destination_file, \"w\") as destination:\n",
        "            for line in source:\n",
        "                destination.write(line)\n",
        "        print(f\"Content copied from '{source_file}' to '{destination_file}' successfully.\")\n",
        "    except FileNotFoundError:\n",
        "        print(f\"Error: Source file '{source_file}' not found.\")\n",
        "    except Exception as e:\n",
        "        print(f\"An error occurred: {e}\")\n",
        "source_file = \"my_file.txt\"\n",
        "destination_file = \"output.txt\"\n",
        "copy_file_content(source_file, destination_file)"
      ],
      "metadata": {
        "colab": {
          "base_uri": "https://localhost:8080/"
        },
        "id": "IBvnj_SCjWi7",
        "outputId": "136253cd-bf9b-4515-eb99-3143c387d848"
      },
      "execution_count": 117,
      "outputs": [
        {
          "output_type": "stream",
          "name": "stdout",
          "text": [
            "Content copied from 'my_file.txt' to 'output.txt' successfully.\n"
          ]
        }
      ]
    },
    {
      "cell_type": "code",
      "source": [
        "# 5. How would you catch and handle division by zero error in Python?\n",
        "a = 10\n",
        "b = 0\n",
        "\n",
        "try:\n",
        "    result = a / b\n",
        "    print(\"Result:\", result)\n",
        "except ZeroDivisionError as e:\n",
        "    print(\"Error: Cannot divide by zero.\")"
      ],
      "metadata": {
        "colab": {
          "base_uri": "https://localhost:8080/"
        },
        "id": "jbamBbKYk0Fa",
        "outputId": "ccfefd25-eef2-42de-ad7f-f5e972f0c923"
      },
      "execution_count": 118,
      "outputs": [
        {
          "output_type": "stream",
          "name": "stdout",
          "text": [
            "Error: Cannot divide by zero.\n"
          ]
        }
      ]
    },
    {
      "cell_type": "code",
      "source": [
        "# 6.Write a Python program that logs an error message to a log file when a division by zero exception occurs?\n",
        "import logging\n",
        "logging.basicConfig(filename='error.log',level=logging.ERROR,format='%(asctime)s - %(levelname)s - %(message)s')\n",
        "try:\n",
        "    a = 10\n",
        "    b = 0\n",
        "    result = a / b\n",
        "except ZeroDivisionError as e:\n",
        "    logging.error(\"Division by zero error occurred: %s\", e)\n",
        "    print(\"An error occurred. Check 'error.log' for details.\")"
      ],
      "metadata": {
        "colab": {
          "base_uri": "https://localhost:8080/"
        },
        "id": "DMr_bKvzmBvu",
        "outputId": "7cd96a5f-cda9-452c-dce5-12cb5fe33457"
      },
      "execution_count": 119,
      "outputs": [
        {
          "output_type": "stream",
          "name": "stderr",
          "text": [
            "ERROR:root:Division by zero error occurred: division by zero\n"
          ]
        },
        {
          "output_type": "stream",
          "name": "stdout",
          "text": [
            "An error occurred. Check 'error.log' for details.\n"
          ]
        }
      ]
    },
    {
      "cell_type": "code",
      "source": [
        "# 7. How do you log information at different levels (INFO, ERROR, WARNING) in Python using the logging module?\n",
        "import logging\n",
        "logging.basicConfig(filename='my_log.log', level=logging.DEBUG, format='%(asctime)s - %(levelname)s - %(message)s')\n",
        "logging.info('This is an info message')\n",
        "logging.warning('This is a warning message')\n",
        "logging.error('This is an error message')"
      ],
      "metadata": {
        "colab": {
          "base_uri": "https://localhost:8080/"
        },
        "id": "tYtlcJsPpOVd",
        "outputId": "a978db46-5f01-4a8e-95c6-dd1d92a8c4bf"
      },
      "execution_count": 120,
      "outputs": [
        {
          "output_type": "stream",
          "name": "stderr",
          "text": [
            "WARNING:root:This is a warning message\n",
            "ERROR:root:This is an error message\n"
          ]
        }
      ]
    },
    {
      "cell_type": "code",
      "source": [
        "# 8. Write a program to handle a file opening error using exception handling?\n",
        "try:\n",
        "    file = open(\"file.txt\", \"r\")\n",
        "    file.close()\n",
        "except FileNotFoundError:\n",
        "    print(\"Error: File not found.\")"
      ],
      "metadata": {
        "colab": {
          "base_uri": "https://localhost:8080/"
        },
        "id": "28Y1YXYfphPd",
        "outputId": "e38bd122-8b15-4cf3-a52b-86dd7a276eac"
      },
      "execution_count": 121,
      "outputs": [
        {
          "output_type": "stream",
          "name": "stdout",
          "text": [
            "Error: File not found.\n"
          ]
        }
      ]
    },
    {
      "cell_type": "code",
      "source": [
        "# 9. How can you read a file line by line and store its content in a list in Python?\n",
        "file = open(\"my_file.txt\", \"r\")\n",
        "lines = file.readlines()\n",
        "file.close()\n",
        "print(lines)"
      ],
      "metadata": {
        "colab": {
          "base_uri": "https://localhost:8080/"
        },
        "id": "Z70HZvcXpzrf",
        "outputId": "0eea572d-c271-4675-d0a7-2f6b8b53f93d"
      },
      "execution_count": 122,
      "outputs": [
        {
          "output_type": "stream",
          "name": "stdout",
          "text": [
            "['A function is an independent block of code, while a method is a function associated with an object.\\n']\n"
          ]
        }
      ]
    },
    {
      "cell_type": "code",
      "source": [
        "# 10. How can you append data to an existing file in Python?\n",
        "file = open(\"my_file.txt\", \"a\")\n",
        "file.write(\"This is the text I want to append.\\n\")\n",
        "file.close()"
      ],
      "metadata": {
        "id": "Ylrdm12IqsnB"
      },
      "execution_count": 123,
      "outputs": []
    },
    {
      "cell_type": "code",
      "source": [
        "# 11. Write a Python program that uses a try-except block to handle an error when attempting to access a dictionary key that doesn't exist\n",
        "my_dict = {'a': 1, 'b': 2, 'c': 3}\n",
        "try:\n",
        "    value = my_dict['d']\n",
        "    print(value)\n",
        "except KeyError:\n",
        "    print(\"Error: Key 'd' does not exist in the dictionary.\")"
      ],
      "metadata": {
        "colab": {
          "base_uri": "https://localhost:8080/"
        },
        "id": "5U5NhR1VqRlO",
        "outputId": "f0c8261d-01ec-4392-eebb-fc0ae977f78d"
      },
      "execution_count": 124,
      "outputs": [
        {
          "output_type": "stream",
          "name": "stdout",
          "text": [
            "Error: Key 'd' does not exist in the dictionary.\n"
          ]
        }
      ]
    },
    {
      "cell_type": "code",
      "source": [
        "# 12. Write a program that demonstrates using multiple except blocks to handle different types of exceptions?\n",
        "try:\n",
        "    result = 10 / 0\n",
        "except ZeroDivisionError:\n",
        "    print(\"Error: Division by zero.\")\n",
        "except ValueError:\n",
        "    print(\"Error: Invalid value.\")\n",
        "except Exception as e:\n",
        "    print(f\"An error occurred: {e}\")"
      ],
      "metadata": {
        "colab": {
          "base_uri": "https://localhost:8080/"
        },
        "id": "DT4pWMp6rjqC",
        "outputId": "4122fc7c-c2fc-4d1d-f840-845f303caf36"
      },
      "execution_count": 125,
      "outputs": [
        {
          "output_type": "stream",
          "name": "stdout",
          "text": [
            "Error: Division by zero.\n"
          ]
        }
      ]
    },
    {
      "cell_type": "code",
      "source": [
        "# 13. How would you check if a file exists before attempting to read it in Python?\n",
        "import os\n",
        "file_path = \"my_file.txt\"\n",
        "if os.path.exists(file_path):\n",
        "    with open(file_path, \"r\") as file:\n",
        "        print(\"File exists and is readable.\")\n",
        "else:\n",
        "    print(\"File does not exist.\")"
      ],
      "metadata": {
        "colab": {
          "base_uri": "https://localhost:8080/"
        },
        "id": "Yqwg63uZr8rM",
        "outputId": "b980ad46-989d-4584-f22b-f072c7101052"
      },
      "execution_count": 130,
      "outputs": [
        {
          "output_type": "stream",
          "name": "stdout",
          "text": [
            "File exists and is readable.\n"
          ]
        }
      ]
    },
    {
      "cell_type": "code",
      "source": [
        "# 14. Write a program that uses the logging module to log both informational and error messages?\n",
        "import logging\n",
        "logging.basicConfig(filename='my_log.log', level=logging.DEBUG, format='%(asctime)s - %(levelname)s - %(message)s')\n",
        "logging.info('This is an info message')\n",
        "logging.error('This is an error message')"
      ],
      "metadata": {
        "colab": {
          "base_uri": "https://localhost:8080/"
        },
        "id": "j8fLd_x_sY33",
        "outputId": "67ffbcf1-f3cc-418b-f8ee-0025ffa8d037"
      },
      "execution_count": 131,
      "outputs": [
        {
          "output_type": "stream",
          "name": "stderr",
          "text": [
            "ERROR:root:This is an error message\n"
          ]
        }
      ]
    },
    {
      "cell_type": "code",
      "source": [
        "# 15. Write a Python program that prints the content of a file and handles the case when the file is empty?\n",
        "file = open(\"my_file.txt\" , \"r\")\n",
        "content = file.read()\n",
        "if content:\n",
        "    print(content)\n",
        "else:\n",
        "    print(\"The file is empty.\")\n",
        "file.close()\n"
      ],
      "metadata": {
        "colab": {
          "base_uri": "https://localhost:8080/"
        },
        "id": "Jd5EZGPWsyCh",
        "outputId": "b97524bd-ce60-42a6-bfaf-e344346cc7cf"
      },
      "execution_count": 133,
      "outputs": [
        {
          "output_type": "stream",
          "name": "stdout",
          "text": [
            "This is the text I want to write.\n",
            "\n"
          ]
        }
      ]
    },
    {
      "cell_type": "code",
      "source": [
        "# 16. Demonstrate how to use memory profiling to check the memory usage of a small program? [This is copy paste code]\n",
        "!pip install memory_profiler\n",
        "import memory_profiler\n",
        "\n",
        "@memory_profiler.profile\n",
        "def my_function():\n",
        "    large_list = list(range(1000000))\n",
        "    # ... some operations with the list ...\n",
        "    return large_list\n",
        "\n",
        "if __name__ == \"__main__\":\n",
        "    my_function()\n",
        "from memory_profiler import profile\n",
        "%load_ext memory_profiler\n",
        "%mprun -f my_function my_function()"
      ],
      "metadata": {
        "colab": {
          "base_uri": "https://localhost:8080/"
        },
        "id": "6nu5NJACtUli",
        "outputId": "d7ee1e82-f692-484d-b9af-e1043f3f2461"
      },
      "execution_count": 94,
      "outputs": [
        {
          "output_type": "stream",
          "name": "stdout",
          "text": [
            "Requirement already satisfied: memory_profiler in /usr/local/lib/python3.11/dist-packages (0.61.0)\n",
            "Requirement already satisfied: psutil in /usr/local/lib/python3.11/dist-packages (from memory_profiler) (5.9.5)\n",
            "ERROR: Could not find file <ipython-input-94-df9f8f4b21d9>\n",
            "NOTE: %mprun can only be used on functions defined in physical files, and not in the IPython environment.\n",
            "The memory_profiler extension is already loaded. To reload it, use:\n",
            "  %reload_ext memory_profiler\n",
            "ERROR: Could not find file <ipython-input-94-df9f8f4b21d9>\n",
            "NOTE: %mprun can only be used on functions defined in physical files, and not in the IPython environment.\n",
            "\n"
          ]
        }
      ]
    },
    {
      "cell_type": "code",
      "source": [
        "# 17. Write a Python program to create and write a list of numbers to a file, one number per line?\n",
        "numbers = [1, 2, 3, 4, 5]\n",
        "with open(\"numbers.txt\", \"w\") as file:\n",
        "    for number in numbers:\n",
        "        file.write(str(number) + \"\\n\")"
      ],
      "metadata": {
        "id": "KslN68cbubD6"
      },
      "execution_count": 95,
      "outputs": []
    },
    {
      "cell_type": "code",
      "source": [
        "# 18. How would you implement a basic logging setup that logs to a file with rotation after 1MB?\n",
        "import logging\n",
        "from logging.handlers import RotatingFileHandler\n",
        "logger = logging.getLogger(__name__)\n",
        "logger.setLevel(logging.INFO)\n",
        "handler = RotatingFileHandler('my_log.log', maxBytes=1000000, backupCount=5)\n",
        "formatter = logging.Formatter('%(asctime)s - %(levelname)s - %(message)s')\n",
        "handler.setFormatter(formatter)\n",
        "logger.addHandler(handler)\n",
        "logger.info('This is an info message')\n",
        "logger.warning('This is a warning message')\n",
        "logger.error('This is an error message')"
      ],
      "metadata": {
        "colab": {
          "base_uri": "https://localhost:8080/"
        },
        "id": "e7oP2yz9wTnJ",
        "outputId": "9c262585-85ba-4164-dcc4-9e97380765cc"
      },
      "execution_count": 96,
      "outputs": [
        {
          "output_type": "stream",
          "name": "stderr",
          "text": [
            "INFO:__main__:This is an info message\n",
            "WARNING:__main__:This is a warning message\n",
            "ERROR:__main__:This is an error message\n"
          ]
        }
      ]
    },
    {
      "cell_type": "code",
      "source": [
        "# 19. Write a program that handles both IndexError and KeyError using a try-except block?\n",
        "my_list = [1, 2, 3]\n",
        "my_dict = {'a': 1, 'b': 2, 'c': 3}\n",
        "\n",
        "try:\n",
        "    list_element = my_list[3]\n",
        "    print(\"List element:\", list_element)\n",
        "\n",
        "    dict_value = my_dict['d']\n",
        "    print(\"Dictionary value:\", dict_value)\n",
        "\n",
        "except IndexError:\n",
        "    print(\"Error: Index out of range for the list.\")\n",
        "except KeyError:\n",
        "    print(\"Error: Key not found in the dictionary.\")\n",
        "except Exception as e:\n",
        "    print(f\"An unexpected error occurred: {e}\")"
      ],
      "metadata": {
        "colab": {
          "base_uri": "https://localhost:8080/"
        },
        "id": "DLE6Xmd1vcBj",
        "outputId": "959b70ca-f4f9-4d41-f8a4-e0920d7a23c3"
      },
      "execution_count": 97,
      "outputs": [
        {
          "output_type": "stream",
          "name": "stdout",
          "text": [
            "Error: Index out of range for the list.\n"
          ]
        }
      ]
    },
    {
      "cell_type": "code",
      "source": [
        "# 20. How would you open a file and read its contents using a context manager in Python?\n",
        "with open(\"my_file.txt\", \"r\") as file:\n",
        "    contents = file.read()\n",
        "    print(contents)"
      ],
      "metadata": {
        "colab": {
          "base_uri": "https://localhost:8080/"
        },
        "id": "jrjYlrZSxMOI",
        "outputId": "75edceb8-be5c-4199-9b51-3b97d21fa766"
      },
      "execution_count": 98,
      "outputs": [
        {
          "output_type": "stream",
          "name": "stdout",
          "text": [
            "This is the text I want to write.\n",
            "\n"
          ]
        }
      ]
    },
    {
      "cell_type": "code",
      "source": [
        "# 21. Write a Python program that reads a file and prints the number of occurrences of a specific word?\n",
        "def count_word_occurrences(filename, word):\n",
        "    try:\n",
        "        with open(filename, 'r') as file:\n",
        "            text = file.read().lower()  # Convert to lowercase for case-insensitive search\n",
        "            words = text.split()  # Split text into words\n",
        "            count = words.count(word.lower())  # Count occurrences\n",
        "        print(f\"The word '{word}' appears {count} times in the file.\")\n",
        "    except FileNotFoundError:\n",
        "        print(\"File not found. Please check the file name and try again.\")\n",
        "\n",
        "# Example usage\n",
        "filename = \"my_file.txt\"  # Change this to the actual file path\n",
        "word_to_find = \"this\"  # Change this to the desired word\n",
        "count_word_occurrences(filename, word_to_find)\n"
      ],
      "metadata": {
        "colab": {
          "base_uri": "https://localhost:8080/"
        },
        "id": "28O63Ba5yEo3",
        "outputId": "ef66961b-082e-4dfe-c043-4fe32d927388"
      },
      "execution_count": 106,
      "outputs": [
        {
          "output_type": "stream",
          "name": "stdout",
          "text": [
            "The word 'this' appears 1 times in the file.\n"
          ]
        }
      ]
    },
    {
      "cell_type": "code",
      "source": [
        "# 22. How can you check if a file is empty before attempting to read its contents?\n",
        "file = open(\"my_file.txt\", \"r\")\n",
        "contents = file.read()\n",
        "if contents:\n",
        "    print(contents)\n",
        "else:\n",
        "    print(\"The file is empty.\")\n",
        "file.close()"
      ],
      "metadata": {
        "colab": {
          "base_uri": "https://localhost:8080/"
        },
        "id": "4DfquFgtyc4A",
        "outputId": "cc03c413-54e0-4ab5-b82d-bffbb485664a"
      },
      "execution_count": 105,
      "outputs": [
        {
          "output_type": "stream",
          "name": "stdout",
          "text": [
            "This is the text I want to write.\n",
            "\n"
          ]
        }
      ]
    },
    {
      "cell_type": "code",
      "source": [
        "# 23. Write a Python program that writes to a log file when an error occurs during file handling?\n",
        "import logging\n",
        "logging.basicConfig(filename='file_handling_errors.log', level=logging.ERROR,\n",
        "                    format='%(asctime)s - %(levelname)s - %(message)s')\n",
        "\n",
        "def process_file(filename):\n",
        "    try:\n",
        "        with open(filename, 'r') as file:\n",
        "            data = file.read()\n",
        "    except FileNotFoundError:\n",
        "        logging.error(f\"File not found: {filename}\")\n",
        "    except IOError:\n",
        "        logging.error(f\"Error reading file: {filename}\")\n",
        "    except Exception as e:\n",
        "        logging.exception(f\"An unexpected error occurred while processing {filename}: {e}\")\n",
        "filename = \"my_file.txt\"\n",
        "process_file(filename)"
      ],
      "metadata": {
        "id": "Ni45j1Ep4phM"
      },
      "execution_count": 109,
      "outputs": []
    }
  ]
}