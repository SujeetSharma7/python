{
  "nbformat": 4,
  "nbformat_minor": 0,
  "metadata": {
    "colab": {
      "provenance": []
    },
    "kernelspec": {
      "name": "python3",
      "display_name": "Python 3"
    },
    "language_info": {
      "name": "python"
    }
  },
  "cells": [
    {
      "cell_type": "markdown",
      "source": [
        "# THEORY ANSWER"
      ],
      "metadata": {
        "id": "SB-2lk04lxOz"
      }
    },
    {
      "cell_type": "markdown",
      "source": [
        "#1 What is Object-Oriented Programming (OOP)\n",
        "- Object-Oriented Programming (OOP) is a programming paradigm based on objects containing data and methods. It emphasizes reusability, modularity, and abstraction, making code more structured, scalable, and easier to maintain through principles like encapsulation, inheritance, and polymorphism.\n",
        "#2 What is a class in OOP\n",
        "-  A class in OOP is a blueprint for creating objects. It defines attributes (variables) and methods (functions) that describe object behavior. Classes support code reusability and organization by encapsulating data and functionality into self-contained units.\n",
        "#3 What is an object in OOP\n",
        "- An object in OOP is an instance of a class. It contains specific data (attributes) and behaviors (methods) defined by the class. Objects allow interaction and manipulation of data while encapsulating implementation details, ensuring modularity and abstraction.\n",
        "#4 What is the difference between abstraction and encapsulation\n",
        "- Abstraction vs. Encapsulation: Abstraction hides implementation details and exposes only essential features, while encapsulation restricts direct access to data by using access modifiers (public, private, protected). Encapsulation enhances security, and abstraction simplifies interface design, improving code manageability.\n",
        "#5 What are dunder methods in Python\n",
        "-  Dunder methods (double underscore methods) in Python, like __init__, __str__, and __repr__, are special functions that customize object behavior. They enable operator overloading, object representation, and initialization, making Python classes more intuitive and functional.\n",
        "#6 Explain the concept of inheritance in OOp\n",
        "- Inheritance in OOP allows a class (child) to derive properties and methods from another class (parent). It promotes code reuse, reducing redundancy. Python supports single, multiple, multilevel, and hierarchical inheritance, enhancing modularity and extensibility.\n",
        "#7 What is polymorphism in OOP\n",
        "- Polymorphism in OOP allows objects to take multiple forms, enabling method overloading and overriding. It lets different classes implement the same interface, improving flexibility, scalability, and code maintainability by allowing functions to handle multiple data types uniformly.\n",
        "#8 How is encapsulation achieved in Python\n",
        "- Encapsulation in Python is achieved using private (__), protected (_), and public attributes. It restricts direct data access, enforcing controlled modification via getter and setter methods. This improves security, maintains data integrity, and ensures modular code structure.\n",
        "#9 What is a constructor in Python\n",
        "- A constructor in Python (__init__ method) is automatically called when an object is created. It initializes object attributes, allowing dynamic assignment of values. Constructors simplify object creation and ensure objects are properly configured before use.\n",
        "#10 What are class and static methods in Python\n",
        "- Class and static methods in Python differ in behavior. @classmethod modifies class variables and uses cls as a parameter, while @staticmethod is independent of class or instance variables, acting as a utility method within a class.\n",
        "#11 What is method overloading in Python\n",
        "- Method overloading in Python allows defining multiple functions with the same name but different parameters. Python lacks true method overloading but achieves it using default arguments or variable-length arguments (*args, **kwargs) to handle multiple cases dynamically.\n",
        "#12 What is method overriding in OOP\n",
        "-  Method overriding in OOP allows a child class to redefine a method inherited from its parent class. The overridden method provides specialized behavior, supporting polymorphism. It ensures that subclass methods execute instead of parent class methods when invoked.\n",
        "#13 What is a property decorator in Python\n",
        "- A property decorator (@property) in Python allows controlled access to class attributes, making a method behave like an attribute. It simplifies getter and setter functions, improving code readability while enforcing encapsulation and controlled data modification.\n",
        "#14 Why is polymorphism important in OOP\n",
        "- Polymorphism’s importance in OOP lies in enabling different objects to be treated uniformly. It enhances code flexibility, reducing redundancy and improving reusability by allowing functions and methods to operate on different object types seamlessly.\n",
        "#15 What is an abstract class in Python\n",
        "- An abstract class in Python (from abc module) cannot be instantiated and contains abstract methods, which must be implemented in derived classes. It enforces a contract for subclasses, ensuring consistent method definitions across different implementations.\n",
        "#16 What are the advantages of OOP\n",
        "- Advantages of OOP include modularity, reusability, scalability, abstraction, encapsulation, and maintainability. It promotes better code organization, reduces redundancy through inheritance, supports polymorphism for flexible designs, and simplifies complex software development with structured and logical object-oriented models.\n",
        "#17 What is multiple inheritance in Python\n",
        "- A class variable is shared among all instances, defined inside the class but outside methods. An instance variable is unique to each object, defined within methods using self. Class variables ensure uniformity, while instance variables allow object-specific data.\n",
        "#18 What is the difference between a class variable and an instance variable\n",
        "- Multiple inheritance in Python enables a child class to inherit from multiple parent classes. It allows combining functionality but introduces complexity, such as the diamond problem. Python’s method resolution order (MRO) helps resolve conflicts systematically.\n",
        "#19 Explain the purpose of ‘’__str__’ and ‘__repr__’ ‘ methods in Python\n",
        "- __str__ and __repr__ methods in Python define string representations of objects. __str__ returns a user-friendly format (str()), while __repr__ provides an unambiguous representation (repr()), useful for debugging and logging.\n",
        "#20 What is the significance of the ‘super()’ function in Python\n",
        "- The super() function in Python allows access to parent class methods and constructors. It supports method overriding, ensuring proper initialization and extending functionality without explicitly referring to the parent class, improving code maintainability.\n",
        "#21 What is the significance of the __del__ method in Python\n",
        "- The __del__ method in Python is a destructor that executes when an object is deleted. It helps free resources like file handles or database connections, ensuring proper cleanup before object removal.\n",
        "#22 What is the difference between @staticmethod and @classmethod in Python\n",
        "- @staticmethod vs. @classmethod: @staticmethod defines independent functions inside classes without modifying class attributes. @classmethod affects class-level attributes using cls. Both enhance modularity and utility but serve different purposes.\n",
        "#23 How does polymorphism work in Python with inheritance\n",
        "- Polymorphism in Python with inheritance allows subclasses to override parent methods while maintaining a common interface. This ensures flexibility, as functions can work with objects from different classes without modification.\n",
        "#24 What is method chaining in Python OOP\n",
        "- Method chaining in Python OOP returns self from methods, enabling multiple calls in a single statement (obj.method1().method2()). It improves readability and efficiency by reducing intermediate variables.\n",
        "#25 What is the purpose of the __call__ method in Python?\n",
        "- The __call__ method in Python makes an instance callable like a function. It allows object invocation using obj(), enabling flexible interfaces and functional behavior encapsulated in class instances."
      ],
      "metadata": {
        "id": "mbJ4zXJAaM3z"
      }
    },
    {
      "cell_type": "markdown",
      "source": [
        "# PRACTICAL ANSWER"
      ],
      "metadata": {
        "id": "p6z7zP3Xd0CQ"
      }
    },
    {
      "cell_type": "code",
      "source": [
        "#1 Create a parent class Animal with a method speak() that prints a generic message. Create a child class Dog that overrides the speak() method to print \"Bark!\n",
        "class Animal:\n",
        "    def speak(self):\n",
        "        print(\"animal sound: \")\n",
        "\n",
        "class Dog(Animal):\n",
        "    def speak(self):\n",
        "        print(\"Bark!\")\n",
        "animal = Animal()\n",
        "dog = Dog()\n",
        "animal.speak()\n",
        "dog.speak()\n"
      ],
      "metadata": {
        "colab": {
          "base_uri": "https://localhost:8080/"
        },
        "id": "CZWlbMwQdzgx",
        "outputId": "cc5971da-5a68-4eb3-953b-6bbc7c98cc1b"
      },
      "execution_count": 39,
      "outputs": [
        {
          "output_type": "stream",
          "name": "stdout",
          "text": [
            "animal sound: \n",
            "Bark!\n"
          ]
        }
      ]
    },
    {
      "cell_type": "code",
      "source": [
        "#2 Write a program to create an abstract class Shape with a method area(). Derive classes Circle and Rectangle from it and implement the area() method in both.\n",
        "from abc import ABC, abstractmethod\n",
        "\n",
        "class Shape(ABC):\n",
        "    @abstractmethod\n",
        "    def area(self):\n",
        "        pass\n",
        "\n",
        "class Circle(Shape):\n",
        "    def __init__(self, radius):\n",
        "        self.radius = radius\n",
        "\n",
        "    def area(self):\n",
        "        return 3.14159 * self.radius * self.radius\n",
        "\n",
        "class Rectangle(Shape):\n",
        "    def __init__(self, length, width):\n",
        "        self.length = length\n",
        "        self.width = width\n",
        "\n",
        "    def area(self):\n",
        "        return self.length * self.width\n",
        "\n",
        "circle = Circle(5)\n",
        "rectangle = Rectangle(4, 6)\n",
        "print(\"Area of circle:\", circle.area())\n",
        "print(\"Area of Rectangle:\", rectangle.area())"
      ],
      "metadata": {
        "colab": {
          "base_uri": "https://localhost:8080/"
        },
        "id": "tpqb-8JreFEW",
        "outputId": "425cab13-03a5-4cc5-d5ec-be9c847cbdff"
      },
      "execution_count": 7,
      "outputs": [
        {
          "output_type": "stream",
          "name": "stdout",
          "text": [
            "Area of circle: 78.53975\n",
            "Area of Rectangle: 24\n"
          ]
        }
      ]
    },
    {
      "cell_type": "code",
      "source": [
        "#3  Implement a multi-level inheritance scenario where a class Vehicle has an attribute type. Derive a class Car and further derive a class ElectricCar that adds a battery attribute\n",
        "class Vehicle:\n",
        "    def __init__(self, vehicle_type):\n",
        "        self.type = vehicle_type\n",
        "\n",
        "class Car(Vehicle):\n",
        "    def __init__(self, vehicle_type, model):\n",
        "        super().__init__(vehicle_type)\n",
        "        self.model = model\n",
        "\n",
        "class ElectricCar(Car):\n",
        "    def __init__(self, vehicle_type, model, battery_capacity):\n",
        "        super().__init__(vehicle_type, model)\n",
        "        self.battery_capacity = battery_capacity\n",
        "\n",
        "my_vehicle = Vehicle(\"Truck\")\n",
        "my_car = Car(\"Sedan\", \"Toyota Camry\")\n",
        "my_electric_car = ElectricCar(\"Hatchback\", \"Tesla Model 3\", \"75 kWh\")\n",
        "\n",
        "\n",
        "print(my_vehicle.type)\n",
        "print(my_car.type, my_car.model)\n",
        "print(my_electric_car.type, my_electric_car.model, my_electric_car.battery_capacity)"
      ],
      "metadata": {
        "colab": {
          "base_uri": "https://localhost:8080/"
        },
        "id": "rw64_IamepBK",
        "outputId": "13b3a863-8ad8-448c-a2d8-bda399d972b6"
      },
      "execution_count": 9,
      "outputs": [
        {
          "output_type": "stream",
          "name": "stdout",
          "text": [
            "Truck\n",
            "Sedan Toyota Camry\n",
            "Hatchback Tesla Model 3 75 kWh\n"
          ]
        }
      ]
    },
    {
      "cell_type": "code",
      "source": [
        "#4  Demonstrate polymorphism by creating a base class Bird with a method fly(). Create two derived classes Sparrow and Penguin that override the fly() method\n",
        "class Bird:\n",
        "    def fly(self):\n",
        "        print(\"Generic bird flying\")\n",
        "\n",
        "class Sparrow(Bird):\n",
        "    def fly(self):\n",
        "        print(\"Sparrow flying in the sky\")\n",
        "\n",
        "class Penguin(Bird):\n",
        "    def fly(self):\n",
        "        print(\"Penguins cannot fly, but they can swim\")\n",
        "\n",
        "bird = Bird()\n",
        "sparrow = Sparrow()\n",
        "penguin = Penguin()\n",
        "\n",
        "bird.fly()\n",
        "sparrow.fly()\n",
        "penguin.fly()"
      ],
      "metadata": {
        "colab": {
          "base_uri": "https://localhost:8080/"
        },
        "id": "W7efxzsMfB9t",
        "outputId": "835e0299-d2eb-4ed8-ddf9-b57321e5819f"
      },
      "execution_count": 11,
      "outputs": [
        {
          "output_type": "stream",
          "name": "stdout",
          "text": [
            "Generic bird flying\n",
            "Sparrow flying in the sky\n",
            "Penguins cannot fly, but they can swim\n"
          ]
        }
      ]
    },
    {
      "cell_type": "code",
      "source": [
        "#5 Write a program to demonstrate encapsulation by creating a class BankAccount with private attributes balance and methods to deposit, withdraw, and check balance\n",
        "class BankAccount:\n",
        "    def __init__(self, initial_balance=0):\n",
        "        self.__balance = initial_balance\n",
        "\n",
        "    def deposit(self, amount):\n",
        "        if amount > 0:\n",
        "            self.__balance += amount\n",
        "            print(f\"Deposited ${amount:.2f}. New balance: ${self.__balance:.2f}\")\n",
        "        else:\n",
        "            print(\"Invalid deposit amount.\")\n",
        "\n",
        "    def withdraw(self, amount):\n",
        "        if 0 < amount <= self.__balance:\n",
        "            self.__balance -= amount\n",
        "            print(f\"Withdrew ${amount:.2f}. New balance: ${self.__balance:.2f}\")\n",
        "        else:\n",
        "            print(\"Insufficient funds or invalid withdrawal amount.\")\n",
        "\n",
        "    def check_balance(self):\n",
        "        print(f\"Current balance: ${self.__balance:.2f}\")\n",
        "\n",
        "account = BankAccount(1000)\n",
        "account.deposit(500)\n",
        "account.withdraw(200)\n",
        "account.check_balance()"
      ],
      "metadata": {
        "colab": {
          "base_uri": "https://localhost:8080/"
        },
        "id": "fCbYte1RfmwV",
        "outputId": "1499d5a3-2231-466d-c160-a2833f27af08"
      },
      "execution_count": 13,
      "outputs": [
        {
          "output_type": "stream",
          "name": "stdout",
          "text": [
            "Deposited $500.00. New balance: $1500.00\n",
            "Withdrew $200.00. New balance: $1300.00\n",
            "Current balance: $1300.00\n"
          ]
        }
      ]
    },
    {
      "cell_type": "code",
      "source": [
        "#6 Demonstrate runtime polymorphism using a method play() in a base class Instrument. Derive classes Guitar and Piano that implement their own version of play()\n",
        "class Instrument:\n",
        "    def play(self):\n",
        "        print(\"Playing a generic instrument sound\")\n",
        "\n",
        "class Guitar(Instrument):\n",
        "    def play(self):\n",
        "        print(\"Strumming the guitar strings\")\n",
        "\n",
        "class Piano(Instrument):\n",
        "    def play(self):\n",
        "        print(\"Playing the piano keys\")\n",
        "\n",
        "instrument = Instrument()\n",
        "guitar = Guitar()\n",
        "piano = Piano()\n",
        "\n",
        "instrument.play()\n",
        "guitar.play()\n",
        "piano.play()"
      ],
      "metadata": {
        "colab": {
          "base_uri": "https://localhost:8080/"
        },
        "id": "VnZwX8exgFjb",
        "outputId": "1374c0cf-9c6e-4428-8a2d-125e08a17348"
      },
      "execution_count": 14,
      "outputs": [
        {
          "output_type": "stream",
          "name": "stdout",
          "text": [
            "Playing a generic instrument sound\n",
            "Strumming the guitar strings\n",
            "Playing the piano keys\n"
          ]
        }
      ]
    },
    {
      "cell_type": "code",
      "source": [
        "#7 . Create a class MathOperations with a class method add_numbers() to add two numbers and a static method subtract_numbers() to subtract two numbers\n",
        "class MathOperations:\n",
        "    @classmethod\n",
        "    def add_numbers(cls, num1, num2):\n",
        "        return num1 + num2\n",
        "\n",
        "    @staticmethod\n",
        "    def subtract_numbers(num1, num2):\n",
        "        return num1 - num2\n",
        "\n",
        "result_add = MathOperations.add_numbers(5, 3)\n",
        "print(\"Addition:\", result_add)\n",
        "\n",
        "\n",
        "result_subtract = MathOperations.subtract_numbers(10, 4)\n",
        "print(\"Subtraction:\", result_subtract)"
      ],
      "metadata": {
        "colab": {
          "base_uri": "https://localhost:8080/"
        },
        "id": "cX3gjLdegtbD",
        "outputId": "d4361f00-bff4-4228-f630-47f520a01988"
      },
      "execution_count": 16,
      "outputs": [
        {
          "output_type": "stream",
          "name": "stdout",
          "text": [
            "Addition: 8\n",
            "Subtraction: 6\n"
          ]
        }
      ]
    },
    {
      "cell_type": "code",
      "source": [
        "#8  Implement a class Person with a class method to count the total number of persons created\n",
        "class Person:\n",
        "    total_persons = 0\n",
        "\n",
        "    @classmethod\n",
        "    def count_persons(cls):\n",
        "        return cls.total_persons\n",
        "\n",
        "    def __init__(self, name):\n",
        "        self.name = name\n",
        "        Person.total_persons += 1\n",
        "\n",
        "person1 = Person(\"Alice\")\n",
        "person2 = Person(\"Bob\")\n",
        "person3 = Person(\"Charlie\")\n",
        "\n",
        "total_persons = Person.count_persons()\n",
        "print(\"Total persons:\", total_persons)"
      ],
      "metadata": {
        "colab": {
          "base_uri": "https://localhost:8080/"
        },
        "id": "P0-OrwP-g47Q",
        "outputId": "3b9deee8-74d8-434f-9430-9dcce09a3a6a"
      },
      "execution_count": 17,
      "outputs": [
        {
          "output_type": "stream",
          "name": "stdout",
          "text": [
            "Total persons: 3\n"
          ]
        }
      ]
    },
    {
      "cell_type": "code",
      "source": [
        "#9  Write a class Fraction with attributes numerator and denominator. Override the str method to display the fraction as \"numerator/denominator\".\n",
        "class Fraction:\n",
        "    def __init__(self, numerator, denominator):\n",
        "        self.numerator = numerator\n",
        "        self.denominator = denominator\n",
        "\n",
        "    def __str__(self):\n",
        "        return f\"{self.numerator}/{self.denominator}\"\n",
        "\n",
        "fraction = Fraction(3, 4)\n",
        "print(fraction)"
      ],
      "metadata": {
        "colab": {
          "base_uri": "https://localhost:8080/"
        },
        "id": "pRj6j8dqhhWS",
        "outputId": "3c25a0a8-d15f-4122-faf9-bc2c30050904"
      },
      "execution_count": 19,
      "outputs": [
        {
          "output_type": "stream",
          "name": "stdout",
          "text": [
            "3/4\n"
          ]
        }
      ]
    },
    {
      "cell_type": "code",
      "source": [
        "#10  Demonstrate operator overloading by creating a class Vector and overriding the add method to add two vectors.\n",
        "class Vector:\n",
        "    def __init__(self, x, y):\n",
        "        self.x = x\n",
        "        self.y = y\n",
        "\n",
        "    def __add__(self, other):\n",
        "        return Vector(self.x + other.x, self.y + other.y)\n",
        "\n",
        "    def __str__(self):\n",
        "        return f\"({self.x}, {self.y})\"\n",
        "\n",
        "vector1 = Vector(1, 2)\n",
        "vector2 = Vector(3, 4)\n",
        "result = vector1 + vector2\n",
        "print(result)"
      ],
      "metadata": {
        "colab": {
          "base_uri": "https://localhost:8080/"
        },
        "id": "q4ncInn6hC5i",
        "outputId": "521f2d1f-c26c-4b5e-b321-19db6aeced76"
      },
      "execution_count": 20,
      "outputs": [
        {
          "output_type": "stream",
          "name": "stdout",
          "text": [
            "(4, 6)\n"
          ]
        }
      ]
    },
    {
      "cell_type": "code",
      "source": [
        "#11 Create a class Person with attributes name and age. Add a method greet() that prints \"Hello, my name is {name} and I am {age} years old.\"\n",
        "class Person:\n",
        "    def __init__(self, name, age):\n",
        "        self.name = name\n",
        "        self.age = age\n",
        "\n",
        "    def greet(self):\n",
        "        print(f\"Hello, my name is {self.name} and I am {self.age} years old.\")\n",
        "\n",
        "person = Person(\"Ajay\", 22)\n",
        "person.greet()"
      ],
      "metadata": {
        "colab": {
          "base_uri": "https://localhost:8080/"
        },
        "id": "7t5QT6G6hCv9",
        "outputId": "0bd3845a-13c4-4bbf-bb88-c7db9b5f9f99"
      },
      "execution_count": 41,
      "outputs": [
        {
          "output_type": "stream",
          "name": "stdout",
          "text": [
            "Hello, my name is Ajay and I am 22 years old.\n"
          ]
        }
      ]
    },
    {
      "cell_type": "code",
      "source": [
        "#12  Implement a class Student with attributes name and grades. Create a method average_grade() to compute the average of the grades.\n",
        "class Student:\n",
        "    def __init__(self, name, grades):\n",
        "        self.name = name\n",
        "        self.grades = grades\n",
        "\n",
        "    def average_grade(self):\n",
        "        if not self.grades:\n",
        "            return 0\n",
        "        return sum(self.grades) / len(self.grades)\n",
        "\n",
        "student = Student(\"Alice\", [85, 90, 78, 92])\n",
        "average = student.average_grade()\n",
        "print(f\"The average grade for {student.name} is {average:.2f}\")"
      ],
      "metadata": {
        "colab": {
          "base_uri": "https://localhost:8080/"
        },
        "id": "-cBP3gZphCsk",
        "outputId": "62fa180c-b0fa-45a3-ff8c-a4c2c0237823"
      },
      "execution_count": 22,
      "outputs": [
        {
          "output_type": "stream",
          "name": "stdout",
          "text": [
            "The average grade for Alice is 86.25\n"
          ]
        }
      ]
    },
    {
      "cell_type": "code",
      "source": [
        "#13  Create a class Rectangle with methods set_dimensions() to set the dimensions and area() to calculate the area.\n",
        "class Rectangle:\n",
        "    def __init__(self, length=0, width=0):\n",
        "        self.length = length\n",
        "        self.width = width\n",
        "\n",
        "    def set_dimensions(self, length, width):\n",
        "        self.length = length\n",
        "        self.width = width\n",
        "\n",
        "    def area(self):\n",
        "        return self.length * self.width\n",
        "\n",
        "rectangle = Rectangle()\n",
        "rectangle.set_dimensions(5, 3)\n",
        "area = rectangle.area()\n",
        "print(f\"The area of the rectangle is {area}\")"
      ],
      "metadata": {
        "colab": {
          "base_uri": "https://localhost:8080/"
        },
        "id": "FjrqBVRGhCoK",
        "outputId": "3320ebe4-369f-45f7-e0af-4935a1877284"
      },
      "execution_count": 23,
      "outputs": [
        {
          "output_type": "stream",
          "name": "stdout",
          "text": [
            "The area of the rectangle is 15\n"
          ]
        }
      ]
    },
    {
      "cell_type": "code",
      "source": [
        "#14  Create a class Employee with a method calculate_salary() that computes the salary based on hours worked and hourly rate. Create a derived class Manager that adds a bonus to the salary\n",
        "class Employee:\n",
        "    def __init__(self, name, hourly_rate):\n",
        "        self.name = name\n",
        "        self.hourly_rate = hourly_rate\n",
        "\n",
        "    def calculate_salary(self, hours_worked):\n",
        "        return hours_worked * self.hourly_rate\n",
        "\n",
        "class Manager(Employee):\n",
        "    def __init__(self, name, hourly_rate, bonus):\n",
        "        super().__init__(name, hourly_rate)\n",
        "        self.bonus = bonus\n",
        "\n",
        "    def calculate_salary(self, hours_worked):\n",
        "        base_salary = super().calculate_salary(hours_worked)\n",
        "        return base_salary + self.bonus\n",
        "\n",
        "\n",
        "employee = Employee(\"Ajay\", 20)\n",
        "manager = Manager(\"Bijay\", 30, 1000)\n",
        "\n",
        "\n",
        "employee_salary = employee.calculate_salary(40)\n",
        "manager_salary = manager.calculate_salary(40)\n",
        "\n",
        "print(f\"{employee.name}'s salary: ${employee_salary}\")\n",
        "print(f\"{manager.name}'s salary: ${manager_salary}\")"
      ],
      "metadata": {
        "colab": {
          "base_uri": "https://localhost:8080/"
        },
        "id": "314qSObfhClz",
        "outputId": "2a4178ae-bfac-4085-854f-b759d8d267c8"
      },
      "execution_count": 25,
      "outputs": [
        {
          "output_type": "stream",
          "name": "stdout",
          "text": [
            "Ajay's salary: $800\n",
            "Bijay's salary: $2200\n"
          ]
        }
      ]
    },
    {
      "cell_type": "code",
      "source": [
        "#15 Create a class Product with attributes name, price, and quantity. Implement a method total_price() that calculates the total price of the product.\n",
        "class Product:\n",
        "    def __init__(self, name, price, quantity):\n",
        "        self.name = name\n",
        "        self.price = price\n",
        "        self.quantity = quantity\n",
        "\n",
        "    def total_price(self):\n",
        "        return self.price * self.quantity\n",
        "\n",
        "product = Product(\"Laptop\", 1500, 2)\n",
        "\n",
        "total = product.total_price()\n",
        "print(f\"Total price of {product.name}: ${total}\")"
      ],
      "metadata": {
        "colab": {
          "base_uri": "https://localhost:8080/"
        },
        "id": "Nk7gq5hshCYw",
        "outputId": "b33a8d87-23d4-402f-9a58-669bedf597b7"
      },
      "execution_count": 30,
      "outputs": [
        {
          "output_type": "stream",
          "name": "stdout",
          "text": [
            "Total price of Laptop: $3000\n"
          ]
        }
      ]
    },
    {
      "cell_type": "code",
      "source": [
        "#16  Create a class Animal with an abstract method sound(). Create two derived classes Cow and Sheep that implement the sound() method.\n",
        "from abc import ABC, abstractmethod\n",
        "\n",
        "class Animal(ABC):\n",
        "    @abstractmethod\n",
        "    def sound(self):\n",
        "        pass\n",
        "\n",
        "class Cow(Animal):\n",
        "    def sound(self):\n",
        "        print(\"Moo!\")\n",
        "\n",
        "class Sheep(Animal):\n",
        "    def sound(self):\n",
        "        print(\"Baa!\")\n",
        "\n",
        "cow = Cow()\n",
        "sheep = Sheep()\n",
        "\n",
        "cow.sound()\n",
        "sheep.sound()"
      ],
      "metadata": {
        "colab": {
          "base_uri": "https://localhost:8080/"
        },
        "id": "_68DRnnJjB3t",
        "outputId": "e2d03e88-0226-49f7-8eb9-b107d33bec66"
      },
      "execution_count": 35,
      "outputs": [
        {
          "output_type": "stream",
          "name": "stdout",
          "text": [
            "Moo!\n",
            "Baa!\n"
          ]
        }
      ]
    },
    {
      "cell_type": "code",
      "source": [
        "#17 Create a class Book with attributes title, author, and year_published. Add a method get_book_info() that returns a formatted string with the book's details\n",
        "class Book:\n",
        "    def __init__(self, title, author, year_published):\n",
        "        self.title = title\n",
        "        self.author = author\n",
        "        self.year_published = year_published\n",
        "\n",
        "    def get_book_info(self):\n",
        "        return f\"Title: {self.title}, Author: {self.author}, Year: {self.year_published}\"\n",
        "\n",
        "book = Book(\"The Hitchhiker's Guide to the Galaxy\", \"Douglas Adams\", 1979)\n",
        "\n",
        "book_info = book.get_book_info()\n",
        "print(book_info)"
      ],
      "metadata": {
        "colab": {
          "base_uri": "https://localhost:8080/"
        },
        "id": "1oFMu6yfj9VE",
        "outputId": "4e02bc96-d1e6-4c01-a12b-449394ea3fe2"
      },
      "execution_count": 36,
      "outputs": [
        {
          "output_type": "stream",
          "name": "stdout",
          "text": [
            "Title: The Hitchhiker's Guide to the Galaxy, Author: Douglas Adams, Year: 1979\n"
          ]
        }
      ]
    },
    {
      "cell_type": "code",
      "source": [
        "#18. Create a class House with attributes address and price. Create a derived class Mansion that adds an attribute number_of_rooms\n",
        "class House:\n",
        "    def __init__(self, address, price):\n",
        "        self.address = address\n",
        "        self.price = price\n",
        "\n",
        "class Mansion(House):\n",
        "    def __init__(self, address, price, number_of_rooms):\n",
        "        super().__init__(address, price)\n",
        "        self.number_of_rooms = number_of_rooms\n",
        "\n",
        "house = House(\"123 Main St\", 500000)\n",
        "mansion = Mansion(\"456 Oak Ave\", 2000000, 10)\n",
        "\n",
        "print(f\"House address: {house.address}, price: ${house.price}\")\n",
        "print(f\"Mansion address: {mansion.address}, price: ${mansion.price}, rooms: {mansion.number_of_rooms}\")"
      ],
      "metadata": {
        "colab": {
          "base_uri": "https://localhost:8080/"
        },
        "id": "Nbft695GlcLc",
        "outputId": "f555b69c-8c08-4cb3-a0ea-78ace93b73a6"
      },
      "execution_count": 37,
      "outputs": [
        {
          "output_type": "stream",
          "name": "stdout",
          "text": [
            "House address: 123 Main St, price: $500000\n",
            "Mansion address: 456 Oak Ave, price: $2000000, rooms: 10\n"
          ]
        }
      ]
    }
  ]
}