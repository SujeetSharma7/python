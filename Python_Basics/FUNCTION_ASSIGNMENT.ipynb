{
  "cells": [
    {
      "cell_type": "markdown",
      "metadata": {
        "id": "o50jj08oUz5j"
      },
      "source": [
        "**THEORY QUESTION & ANSWER**"
      ]
    },
    {
      "cell_type": "markdown",
      "metadata": {
        "id": "h8h2MnY8-pwF"
      },
      "source": [
        "1. What is the difference between a function and a method in Python?\n",
        "- A function is an independent block of code, while a method is a function associated with an object. Methods operate on objects and can modify their state, whereas functions work independently without requiring an instance.\n",
        "\n",
        "2. Explain the concept of function arguments and parameters in Python.\n",
        "- Parameters are variables listed in a function’s definition, while arguments are values passed to a function during a call. Parameters define expected inputs, while arguments supply actual data. Python supports positional, keyword, default, and variable-length arguments.\n",
        "\n",
        "\n",
        "3. What are the different ways to define and call a function in Python?\n",
        "- Functions in Python are defined using the def keyword, followed by a name, parameters, and a block of code. They are called by using their name with parentheses and arguments. Lambda functions offer a concise, anonymous alternative.\n",
        "\n",
        "4. What is the purpose of the return statement in a Python function?\n",
        "- The return statement exits a function and sends back a value to the caller. Without it, functions return None by default. It allows functions to produce reusable outputs instead of just executing code without returning results.\n",
        "\n",
        "5. What are iterators in Python and how do they differ from iterables?\n",
        "- Iterables are objects that can be looped over, like lists or tuples. Iterators are objects that produce elements lazily using __next__(). Iterators consume data as they traverse, whereas iterables can be used multiple times with fresh iterators.\n",
        "\n",
        "6. Explain the concept of generators in Python and how they are defined.\n",
        "- Generators are special iterators that yield values lazily using the yield keyword instead of returning all at once. They reduce memory usage, enable infinite sequences, and improve performance in data streaming or large dataset operations.\n",
        "\n",
        "7. What are the advantages of using generators over regular functions?\n",
        "- Generators save memory by yielding values one at a time instead of storing them all. They allow infinite sequences, improve performance in data processing, and simplify asynchronous programming. Their lazy evaluation makes them ideal for handling large datasets.\n",
        "\n",
        "8. What is a lambda function in Python and when is it typically used?\n",
        "- Lambda functions are anonymous, single-expression functions defined using lambda keyword. They are used for short, throwaway functions in map, filter, and sorting operations. Lambdas improve code readability but are limited in complexity compared to regular functions.\n",
        "\n",
        "9. Explain the purpose and usage of the map() function in Python.\n",
        "- The map() function applies a given function to each item in an iterable and returns a map object. It’s useful for transforming sequences without explicit loops, improving readability and performance in functional-style programming.\n",
        "\n",
        "10. What is the difference between map(), reduce(), and filter() functions in Python?\n",
        "- map() applies a function to each element, filter() selects elements meeting a condition, and reduce() aggregates elements into a single value. map() and filter() return iterables, while reduce() (from functools) returns a single computed result."
      ]
    },
    {
      "cell_type": "markdown",
      "metadata": {
        "id": "wsIF2-0dTh-H"
      },
      "source": [
        "11. Using pen & Paper write the internal mechanism for sum operation using  reduce function on this given (Attach paper image for this answer) in doc or colab notebook"
      ]
    },
    {
      "cell_type": "markdown",
      "metadata": {
        "id": "o_4GzFLvToxr"
      },
      "source": [
        "# url= https://drive.google.com/file/d/1YjTQPCbiw786KbyRfWcObOdQFgLuMVSe/view?usp=sharing"
      ]
    },
    {
      "cell_type": "markdown",
      "metadata": {
        "id": "fngUjExTY3X5"
      },
      "source": [
        "**Functions practical Q&A**"
      ]
    },
    {
      "cell_type": "code",
      "execution_count": null,
      "metadata": {
        "colab": {
          "base_uri": "https://localhost:8080/"
        },
        "id": "1T56OztZpmav",
        "outputId": "77eba2e5-04f1-4fe1-9839-7f836a841838"
      },
      "outputs": [
        {
          "data": {
            "text/plain": [
              "12"
            ]
          },
          "execution_count": 66,
          "metadata": {},
          "output_type": "execute_result"
        }
      ],
      "source": [
        "#1. Write a Python function that takes a list of numbers as input and returns the sum of all even numbers in the list.\n",
        "numbers = [1, 2, 3, 4, 5, 6]\n",
        "def sum_of_even_numbers(numbers):    # Initialize a variable to hold the sum of even numbers\n",
        "    add = 0                          # Loop through the list of numbers\n",
        "    for num in numbers:              # Check if the number is even\n",
        "        if num % 2 == 0:\n",
        "            add += num               # Return the sum of even numbers\n",
        "    return add\n",
        "sum_of_even_numbers(numbers)"
      ]
    },
    {
      "cell_type": "code",
      "execution_count": 68,
      "metadata": {
        "colab": {
          "base_uri": "https://localhost:8080/",
          "height": 36
        },
        "id": "WOQEkCeCptTy",
        "outputId": "8691a2bc-ea4d-4348-e9f9-6a2d645c5771"
      },
      "outputs": [
        {
          "data": {
            "application/vnd.google.colaboratory.intrinsic+json": {
              "type": "string"
            },
            "text/plain": [
              "'olleh'"
            ]
          },
          "execution_count": 68,
          "metadata": {},
          "output_type": "execute_result"
        }
      ],
      "source": [
        "#2. Create a Python function that accepts a string and returns the reverse of that string.\n",
        "input_string = \"hello\"\n",
        "def reverse_string(s):             # Return the reversed string using slicing\n",
        "    return s[::-1]\n",
        "\n",
        "reverse_string(input_string)"
      ]
    },
    {
      "cell_type": "code",
      "execution_count": 70,
      "metadata": {
        "colab": {
          "base_uri": "https://localhost:8080/"
        },
        "id": "X67C2uPupw8M",
        "outputId": "9313320c-956d-499c-a4fa-24ac5a7d8eac"
      },
      "outputs": [
        {
          "data": {
            "text/plain": [
              "[1, 4, 9, 16, 25]"
            ]
          },
          "execution_count": 70,
          "metadata": {},
          "output_type": "execute_result"
        }
      ],
      "source": [
        "#3. Implement a Python function that takes a list of integers and returns a new list containing the squares of each number.\n",
        "numbers = [1, 2, 3, 4, 5]\n",
        "def square_numbers(numbers):\n",
        "  squared_numbers = []\n",
        "  for number in numbers:\n",
        "    squared_numbers.append(number ** 2)\n",
        "  return squared_numbers\n",
        "\n",
        "square_numbers(numbers)"
      ]
    },
    {
      "cell_type": "code",
      "execution_count": 82,
      "metadata": {
        "colab": {
          "base_uri": "https://localhost:8080/"
        },
        "id": "Qo6bD29Ctpag",
        "outputId": "f9dfbb04-a22b-4122-fbea-c858473e0a84"
      },
      "outputs": [
        {
          "name": "stdout",
          "output_type": "stream",
          "text": [
            "Enter a number 1 to 200: 6\n"
          ]
        },
        {
          "data": {
            "text/plain": [
              "False"
            ]
          },
          "execution_count": 82,
          "metadata": {},
          "output_type": "execute_result"
        }
      ],
      "source": [
        "#4. What is the purpose of the `return` statement in a Python function?\n",
        "number = int(input(\"Enter a number 1 to 200: \"))\n",
        "def is_prime(number):\n",
        "    if number <= 1:\n",
        "        return False         # Numbers less than or equal to 1 are not prime\n",
        "    for i in range(2, int(number**0.5) + 1):\n",
        "        if number % i == 0:\n",
        "            return False     # Divisible by another number, hence not prime\n",
        "\n",
        "    return True              # No divisors found, it's a prime number\n",
        "is_prime(number)"
      ]
    },
    {
      "cell_type": "code",
      "execution_count": null,
      "metadata": {
        "id": "TK7uZs8sp5Ir"
      },
      "outputs": [],
      "source": [
        "#5. Create an iterator class in Python that generates the Fibonacci sequence up to a specified number of terms.\n"
      ]
    },
    {
      "cell_type": "code",
      "execution_count": 88,
      "metadata": {
        "colab": {
          "base_uri": "https://localhost:8080/"
        },
        "id": "399CRrrVwKN8",
        "outputId": "9870b9ee-2282-4ef8-890f-8129d8f028aa"
      },
      "outputs": [
        {
          "data": {
            "text/plain": [
              "<generator object powers_of_2 at 0x7dac916928e0>"
            ]
          },
          "execution_count": 88,
          "metadata": {},
          "output_type": "execute_result"
        }
      ],
      "source": [
        "#6. Write a generator function in Python that yields the powers of 2 up to a given exponent.\n",
        "def powers_of_2(exponent):\n",
        "    for i in range(exponent):      # Include the exponent\n",
        "        yield 2 ** i               # Yield 2 raised to the power of i\n",
        "\n",
        "powers_of_2(5)                     # Generate powers of 2 up to exponent 5\n"
      ]
    },
    {
      "cell_type": "code",
      "execution_count": 89,
      "metadata": {
        "colab": {
          "base_uri": "https://localhost:8080/"
        },
        "id": "bW1JySkCyuUt",
        "outputId": "3b80d585-548d-4c0e-f5d1-48f028651535"
      },
      "outputs": [
        {
          "data": {
            "text/plain": [
              "1"
            ]
          },
          "execution_count": 89,
          "metadata": {},
          "output_type": "execute_result"
        }
      ],
      "source": [
        "gen = powers_of_2(5)\n",
        "next(gen)"
      ]
    },
    {
      "cell_type": "code",
      "execution_count": 90,
      "metadata": {
        "colab": {
          "base_uri": "https://localhost:8080/"
        },
        "id": "3GxnR4SCyzBS",
        "outputId": "ac90be29-269a-48a7-e0ac-e9843c743ddc"
      },
      "outputs": [
        {
          "data": {
            "text/plain": [
              "2"
            ]
          },
          "execution_count": 90,
          "metadata": {},
          "output_type": "execute_result"
        }
      ],
      "source": [
        "next(gen)"
      ]
    },
    {
      "cell_type": "code",
      "execution_count": 91,
      "metadata": {
        "colab": {
          "base_uri": "https://localhost:8080/"
        },
        "id": "Vmlx3vH8y2-9",
        "outputId": "d5229017-0f8f-4c69-cfea-a2fb1f08de27"
      },
      "outputs": [
        {
          "data": {
            "text/plain": [
              "4"
            ]
          },
          "execution_count": 91,
          "metadata": {},
          "output_type": "execute_result"
        }
      ],
      "source": [
        "next(gen)"
      ]
    },
    {
      "cell_type": "code",
      "execution_count": 92,
      "metadata": {
        "colab": {
          "base_uri": "https://localhost:8080/"
        },
        "id": "mcoVj1Xqy68m",
        "outputId": "76f7f4b5-e415-4d58-aa9d-9cf9c9a64a62"
      },
      "outputs": [
        {
          "data": {
            "text/plain": [
              "8"
            ]
          },
          "execution_count": 92,
          "metadata": {},
          "output_type": "execute_result"
        }
      ],
      "source": [
        "next(gen)"
      ]
    },
    {
      "cell_type": "code",
      "execution_count": 93,
      "metadata": {
        "colab": {
          "base_uri": "https://localhost:8080/"
        },
        "id": "h2EycHIly9zb",
        "outputId": "43b8b59a-f988-4021-c7de-8d58eb0839e1"
      },
      "outputs": [
        {
          "data": {
            "text/plain": [
              "16"
            ]
          },
          "execution_count": 93,
          "metadata": {},
          "output_type": "execute_result"
        }
      ],
      "source": [
        "next(gen)"
      ]
    },
    {
      "cell_type": "code",
      "execution_count": 96,
      "metadata": {
        "id": "muRCjy-jzQEK"
      },
      "outputs": [],
      "source": [
        "#7. Implement a generator function that reads a file line by line and yields each line as a string."
      ]
    },
    {
      "cell_type": "code",
      "execution_count": 97,
      "metadata": {
        "colab": {
          "base_uri": "https://localhost:8080/"
        },
        "id": "RbK6t5xs0yhu",
        "outputId": "8a2b7a5c-ebb3-46af-b8bb-b84d1ab681f1"
      },
      "outputs": [
        {
          "data": {
            "text/plain": [
              "[(4, 1), (3, 2), (1, 5), (2, 8)]"
            ]
          },
          "execution_count": 97,
          "metadata": {},
          "output_type": "execute_result"
        }
      ],
      "source": [
        "#8. Use a lambda function in Python to sort a list of tuples based on the second element of each tuple.\n",
        "\n",
        "data = [(1, 5), (3, 2), (2, 8), (4, 1)]         # Sample list of tuples\n",
        "sorted_data = sorted(data, key=lambda x: x[1])  # Sort the list of tuples based on the second element using a lambda function\n",
        "sorted_data                                     # Print the sorted list"
      ]
    },
    {
      "cell_type": "code",
      "execution_count": null,
      "metadata": {
        "id": "g2_tfC6m8Z4z"
      },
      "outputs": [],
      "source": [
        "#9. Write a Python program that uses `map()` to convert a list of temperatures from Celsius to Fahrenheit.\n",
        "\n",
        "celsius_temps = [0, 10, 20, 30, 40]     # List of temperatures in Celsius\n",
        "def celsius_to_fahrenheit(celsius):     # Function to convert Celsius to Fahrenhei\n",
        "    return (celsius * 9/5) + 32\n",
        "fahrenheit_temps = list(map(celsius_to_fahrenheit, celsius_temps))    # Use map to apply the conversion function to the list\n",
        "print(fahrenheit_temps)\n",
        "\n"
      ]
    },
    {
      "cell_type": "code",
      "execution_count": 120,
      "metadata": {
        "colab": {
          "base_uri": "https://localhost:8080/"
        },
        "id": "cPHz0LwP8hXc",
        "outputId": "98c86d80-4ab5-4df9-b1a1-94c40bfa9e9e"
      },
      "outputs": [
        {
          "name": "stdout",
          "output_type": "stream",
          "text": [
            "Hll, Wrld!\n"
          ]
        }
      ],
      "source": [
        "#10. Create a Python program that uses `filter()` to remove all the vowels from a given string Function to check if a character is a vowel\n",
        "input_string = \"Hello, World!\"    # Input string\n",
        "def is_not_vowel(char):\n",
        "    return char.lower() not in 'aeiou'\n",
        "filtered_string = ''.join(filter(is_not_vowel, input_string))     # Use filter to remove vowels from the string\n",
        "print(filtered_string)\n"
      ]
    },
    {
      "cell_type": "code",
      "execution_count": 5,
      "metadata": {
        "colab": {
          "base_uri": "https://localhost:8080/"
        },
        "id": "iLQcxVYQJ1NX",
        "outputId": "07edb3d6-0714-48a8-d4c1-c51518793add"
      },
      "outputs": [
        {
          "name": "stdout",
          "output_type": "stream",
          "text": [
            "[(34587, 163.8), (98762, 284.0), (77226, 108.85000000000001), (88112, 84.97)]\n"
          ]
        }
      ],
      "source": [
        "# Q11.\n",
        "'''Imagine an accounting routine used in a book shop. It works on a list with sublists, which look like this: Write a Python program,\n",
        " which returns a list with 2-tuples. Each tuple consists of the order number and the product of the price per item and the quantity.\n",
        " The product should be increased by 10,- € if the value of the order is smaller than 100,00 €. Write a Python program using lambda and map.'''\n",
        "orders = [\n",
        "    (34587, \"Learning Python, Mark Lutz\", 4, 40.95),            # Given book order data\n",
        "    (98762, \"Programming Python, Mark Lutz\", 5, 56.80),\n",
        "    (77226, \"Head First Python, Paul Barry\", 3, 32.95),\n",
        "    (88112, \"Einführung in Python3, Bernd Klein\", 3, 24.99)]\n",
        "\n",
        "result = list(map(lambda order: (order[0], order[2] * order[3] + (10 if order[2] * order[3] < 100 else 0)), orders))        # Using lambda and map to process orders\n",
        "print(result)         # Output the result\n"
      ]
    }
  ],
  "metadata": {
    "colab": {
      "provenance": []
    },
    "kernelspec": {
      "display_name": "Python 3",
      "name": "python3"
    },
    "language_info": {
      "name": "python"
    }
  },
  "nbformat": 4,
  "nbformat_minor": 0
}
